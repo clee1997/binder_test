{
 "cells": [
  {
   "cell_type": "code",
   "execution_count": null,
   "metadata": {},
   "outputs": [],
   "source": [
    "import pickle\n",
    "import matplotlib.pyplot as plt\n",
    "import urllib\n",
    "import urllib as ul\n",
    "import urllib.request\n",
    "import pandas as pd\n",
    "import numpy as np\n",
    "import matplotlib.pyplot as plt\n",
    "import json\n",
    "import networkx as nx\n",
    "import ast\n",
    "from prettytable import PrettyTable\n",
    "import gseapy as gp\n",
    "\n",
    "pd.set_option('display.max_colwidth', None)\n",
    "pd.set_option('display.max_columns', None)\n",
    "pd.set_option('display.max_rows', None)\n",
    "\n",
    "\n",
    "ewas_smoking = pd.read_csv('smoking.tsv' , delimiter='\\t') # Epigenome-Wide Association Study (EWAS) smoking data. (https://www.ewascatalog.org/?trait=smoking)\n",
    "\n",
    "print(ewas_smoking.columns)"
   ]
  }
 ],
 "metadata": {
  "language_info": {
   "name": "python"
  }
 },
 "nbformat": 4,
 "nbformat_minor": 2
}
